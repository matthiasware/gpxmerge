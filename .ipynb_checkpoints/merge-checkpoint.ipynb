{
 "cells": [
  {
   "cell_type": "code",
   "execution_count": null,
   "id": "927f05bd",
   "metadata": {},
   "outputs": [],
   "source": [
    "from pathlib import Path\n",
    "import gpxpy\n",
    "import gpxpy.gpx"
   ]
  },
  {
   "cell_type": "code",
   "execution_count": null,
   "id": "892c2465",
   "metadata": {},
   "outputs": [],
   "source": [
    "p_base = Path(\"data\")\n",
    "p_data = p_base / \"Anger\"\n",
    "#\n",
    "p_all_tracks = p_data / \"{}.gpx\".format(p_data.name)\n",
    "p_subtracks_tmp =  \"{}.gpx\"\n",
    "#\n",
    "duplicates_ignore = True"
   ]
  },
  {
   "cell_type": "code",
   "execution_count": null,
   "id": "ec1dc2b8",
   "metadata": {},
   "outputs": [],
   "source": [
    "gpx_all_tracks = gpxpy.gpx.GPX()\n",
    "names = []\n",
    "for p in list(p_data.glob(\"*\")):\n",
    "    if not p.is_dir():\n",
    "        continue\n",
    "    p_tracks = list(p.glob(\"*.gpx\"))\n",
    "    print(\"{:<20} #tracks:{:>4}\".format(p.name, len(p_tracks)))\n",
    "    gpx_subtracks = gpxpy.gpx.GPX()\n",
    "    for p_track in p_tracks:\n",
    "        with open(p_track, \"r\") as file:\n",
    "            gpx = gpxpy.parse(file)\n",
    "        for track in gpx.tracks:\n",
    "            gpx_subtracks.tracks.append(track)\n",
    "            gpx_all_tracks.tracks.append(track)\n",
    "            if track.name in names:\n",
    "                print(\"\\tDuplicate track: {} for {}\".format(track.name, p_track))\n",
    "                if duplicates_ignore:\n",
    "                    continue\n",
    "            names.append(track.name)\n",
    "    xml = gpx_subtracks.to_xml()\n",
    "    p_subtrack = p_subtracks_tmp.format(p.name)\n",
    "    with open(p_data / p_subtrack, \"w\") as file:\n",
    "        file.write(xml)\n",
    "\n",
    "xml = gpx_all_tracks.to_xml()\n",
    "with open(p_all_tracks, \"w\") as file:\n",
    "    file.write(xml)"
   ]
  },
  {
   "cell_type": "code",
   "execution_count": null,
   "id": "862644a6",
   "metadata": {},
   "outputs": [],
   "source": [
    "p_data"
   ]
  },
  {
   "cell_type": "code",
   "execution_count": null,
   "id": "c50adde5",
   "metadata": {},
   "outputs": [],
   "source": [
    "list(p_data.glob(\"*\"))"
   ]
  },
  {
   "cell_type": "code",
   "execution_count": null,
   "id": "a5018981",
   "metadata": {},
   "outputs": [],
   "source": []
  }
 ],
 "metadata": {
  "kernelspec": {
   "display_name": "Python 3 (ipykernel)",
   "language": "python",
   "name": "python3"
  },
  "language_info": {
   "codemirror_mode": {
    "name": "ipython",
    "version": 3
   },
   "file_extension": ".py",
   "mimetype": "text/x-python",
   "name": "python",
   "nbconvert_exporter": "python",
   "pygments_lexer": "ipython3",
   "version": "3.8.13"
  },
  "latex_envs": {
   "LaTeX_envs_menu_present": true,
   "autoclose": false,
   "autocomplete": true,
   "bibliofile": "biblio.bib",
   "cite_by": "apalike",
   "current_citInitial": 1,
   "eqLabelWithNumbers": true,
   "eqNumInitial": 1,
   "hotkeys": {
    "equation": "Ctrl-E",
    "itemize": "Ctrl-I"
   },
   "labels_anchors": false,
   "latex_user_defs": false,
   "report_style_numbering": false,
   "user_envs_cfg": false
  }
 },
 "nbformat": 4,
 "nbformat_minor": 5
}
