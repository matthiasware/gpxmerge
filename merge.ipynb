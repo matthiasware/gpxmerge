{
 "cells": [
  {
   "cell_type": "code",
   "execution_count": 19,
   "id": "927f05bd",
   "metadata": {},
   "outputs": [],
   "source": [
    "from pathlib import Path\n",
    "import gpxpy\n",
    "import gpxpy.gpx"
   ]
  },
  {
   "cell_type": "code",
   "execution_count": 3,
   "id": "892c2465",
   "metadata": {},
   "outputs": [],
   "source": [
    "p_data = Path(\"data/Jena\")\n",
    "include_subdirs = True\n",
    "#\n",
    "p_file = \"data/jena.gpx\""
   ]
  },
  {
   "cell_type": "code",
   "execution_count": 8,
   "id": "9ea24d7c",
   "metadata": {},
   "outputs": [],
   "source": [
    "# search for tracks\n",
    "p_tracks = list(p_data.glob(\"**/*.gpx\"))"
   ]
  },
  {
   "cell_type": "code",
   "execution_count": 12,
   "id": "b3b33b75",
   "metadata": {},
   "outputs": [
    {
     "name": "stdout",
     "output_type": "stream",
     "text": [
      "  0 Rosentalride  \n",
      "  1 Steinbach Vol. 2\n",
      "  2 CloseRide\n",
      "  3 Switchback alle Kurven ausgefahren\n",
      "  4 Enduromatiker DH\n",
      "  5 Streuobstwiese bis Steinbachtal\n",
      "  6 Little Italy\n",
      "  7 Close Ride Technik Part\n",
      "  8 Closewitz (Forst) bis Steinbach\n",
      "  9 Rosentalride von oben\n",
      " 10  Abfahrt Napoleonstein (Die gesamte Strecke)\n",
      " 11 Copanz-Nennsdorf runterschießen\n",
      " 12 Trail nach Ammerbach\n",
      " 13 Looping Louie\n",
      " 14 MH meint zu flach im unteren Bereich Track V\n",
      " 15 MHV Spezial Track 2\n",
      " 16 MH Track V2\n",
      " 17 Single Trail Nennsdorf 2.0\n",
      " 18 Off Camper Track\n",
      " 19 Nett bergab nach Ammerbach\n",
      " 20 MHV Spezial Track\n",
      " 21 Der Neue MHV\n",
      " 22 The Holy Hole\n",
      " 23 Bananaroot Trail\n",
      " 24 MH Track V1\n",
      " 25 Der Neue MHV Variante 2\n",
      " 26 Bananaroot Trail neu\n",
      " 27 abwärts kurz und heftig\n",
      " 28 Ziegenberg ins Pennickental runterschießen\n",
      " 29 Little DH\n",
      " 30 WölliDH\n",
      " 31 Kernbergkamm DH\n",
      " 32 Tricky Section\n",
      " 33 Fürstenbrunnen Serpentinenride\n",
      " 34 Diebesgrippe DH\n",
      " 35 blablabla\n",
      " 36 Erle DH\n",
      " 37 Erlenduro\n",
      " 38 It's Hammer Time\n",
      " 39 WhistlerTrack\n",
      " 40 Keine Ahnung wo es hier lang geht!\n",
      " 41 Singletrail Erli\n",
      " 42 Whistlerlane in MongoBongo\n",
      " 43 Eng, Steil und Eng\n",
      " 44 Whistlerlane Erlkönig\n",
      " 45 Wie komm ich da heil runter?\n",
      " 46 Worldlcupweg\n",
      " 47 Erle-Whistler \n",
      " 48 Waldschrat V3\n",
      " 49 Waldschrattrack V2\n",
      " 50 Trüffeltrail\n"
     ]
    }
   ],
   "source": [
    "idx = 0\n",
    "gpx_merged = gpxpy.gpx.GPX()\n",
    "names = []\n",
    "for p_track in p_tracks:\n",
    "    with open(p_track, \"r\") as file:\n",
    "        gpx = gpxpy.parse(file)\n",
    "    for track in gpx.tracks:\n",
    "        print(\"{:>3} {}\".format(idx, track.name))\n",
    "        names.append(track.name)\n",
    "        gpx_merged.tracks.append(track)\n",
    "        idx += 1"
   ]
  },
  {
   "cell_type": "code",
   "execution_count": 17,
   "id": "26cc36fc",
   "metadata": {},
   "outputs": [
    {
     "name": "stdout",
     "output_type": "stream",
     "text": [
      "Unique tracks: 100.0%\n"
     ]
    }
   ],
   "source": [
    "print(\"Unique tracks: {}%\".format(len(set(names)) / len(names) * 100))"
   ]
  },
  {
   "cell_type": "code",
   "execution_count": 18,
   "id": "56bf464c",
   "metadata": {},
   "outputs": [],
   "source": [
    "xml = gpx.to_xml()\n",
    "with open(p_file, \"w\") as file:\n",
    "    file.write(xml)"
   ]
  },
  {
   "cell_type": "code",
   "execution_count": null,
   "id": "f4592041",
   "metadata": {},
   "outputs": [],
   "source": []
  }
 ],
 "metadata": {
  "kernelspec": {
   "display_name": "Python 3 (ipykernel)",
   "language": "python",
   "name": "python3"
  },
  "language_info": {
   "codemirror_mode": {
    "name": "ipython",
    "version": 3
   },
   "file_extension": ".py",
   "mimetype": "text/x-python",
   "name": "python",
   "nbconvert_exporter": "python",
   "pygments_lexer": "ipython3",
   "version": "3.8.10"
  },
  "latex_envs": {
   "LaTeX_envs_menu_present": true,
   "autoclose": false,
   "autocomplete": true,
   "bibliofile": "biblio.bib",
   "cite_by": "apalike",
   "current_citInitial": 1,
   "eqLabelWithNumbers": true,
   "eqNumInitial": 1,
   "hotkeys": {
    "equation": "Ctrl-E",
    "itemize": "Ctrl-I"
   },
   "labels_anchors": false,
   "latex_user_defs": false,
   "report_style_numbering": false,
   "user_envs_cfg": false
  }
 },
 "nbformat": 4,
 "nbformat_minor": 5
}
